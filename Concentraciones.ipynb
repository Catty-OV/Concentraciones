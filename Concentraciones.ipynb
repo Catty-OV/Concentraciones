{
  "nbformat": 4,
  "nbformat_minor": 0,
  "metadata": {
    "colab": {
      "provenance": [],
      "collapsed_sections": []
    },
    "kernelspec": {
      "name": "python3",
      "display_name": "Python 3"
    },
    "language_info": {
      "name": "python"
    }
  },
  "cells": [
    {
      "cell_type": "code",
      "execution_count": null,
      "metadata": {
        "id": "YPJ_W1W6zwl4"
      },
      "outputs": [],
      "source": [
        "# Ingreso de datos\n",
        "qo = 35900 # Caudal de petróleo\n",
        "BSW = 0.75 # Corte de agua\n",
        "API = 27 # Gravedad API del petróleo\n"
      ]
    },
    {
      "cell_type": "code",
      "source": [
        "# ¿Qué volumen de demulsificante se debe inyectar?\n",
        "dem = qo * 35 / (1000000 - 35)\n",
        "dem = dem * 42\n",
        "dem = round(dem, 2)\n",
        "\n",
        "print('Cantidad de demulsificante:', dem, 'gln/d')\n"
      ],
      "metadata": {
        "colab": {
          "base_uri": "https://localhost:8080/"
        },
        "id": "Kr79hNA3z0P6",
        "outputId": "be256c39-4d31-48f6-d186-83f5256e1b37"
      },
      "execution_count": null,
      "outputs": [
        {
          "output_type": "stream",
          "name": "stdout",
          "text": [
            "Cantidad de demulsificante: 52.77 gln/d\n"
          ]
        }
      ]
    },
    {
      "cell_type": "code",
      "source": [
        "# ¿Qué volumen de inhibidor de corrosión se debe inyectar?\n",
        "inh = qo * 50 / (1000000 - 50)\n",
        "inh = inh * 42\n",
        "inh = round(inh, 2)\n",
        "\n",
        "print('Cantidad de inhibidor:', inh, 'gln/d')\n"
      ],
      "metadata": {
        "colab": {
          "base_uri": "https://localhost:8080/"
        },
        "id": "0RAZcVMKz0SU",
        "outputId": "0d25f5e2-229f-4598-d094-391891cd37ab"
      },
      "execution_count": null,
      "outputs": [
        {
          "output_type": "stream",
          "name": "stdout",
          "text": [
            "Cantidad de inhibidor: 75.39 gln/d\n"
          ]
        }
      ]
    },
    {
      "cell_type": "code",
      "source": [
        "# Si se inyecta 40 gln de antiescala\n",
        "qant = 40 / 42\n",
        "qw = qo * BSW / (1 - BSW)\n",
        "\n",
        "ant = (qw + qant) * 30 / (1000000 - 30)\n",
        "ant = ant * 42\n",
        "ant = round(ant, 2)\n",
        "\n",
        "print('Cantidad de antiescala:', ant, 'gln')\n"
      ],
      "metadata": {
        "colab": {
          "base_uri": "https://localhost:8080/"
        },
        "id": "MDo0k0lYz0U1",
        "outputId": "136e3ad8-c7cc-428c-9468-4a5e637b5e9e"
      },
      "execution_count": null,
      "outputs": [
        {
          "output_type": "stream",
          "name": "stdout",
          "text": [
            "Cantidad de antiescala: 135.71 gln\n"
          ]
        }
      ]
    },
    {
      "cell_type": "code",
      "source": [
        "# ¿Qué volumen de biocida se requiere inyetar para un bache de 3 horas?\n",
        "qbio = qw / 24 * 3\n",
        "\n",
        "vbio = qbio * 500 / (1000000 - 500)\n",
        "vbio = vbio * 42\n",
        "vbio = round(vbio, 2)\n",
        "\n",
        "print('Cantidad de biocida:', vbio, 'gln')\n"
      ],
      "metadata": {
        "colab": {
          "base_uri": "https://localhost:8080/"
        },
        "id": "LHfi_VKKz0W6",
        "outputId": "083fb6fe-ecda-454f-b19c-ea20e35bdfd2"
      },
      "execution_count": null,
      "outputs": [
        {
          "output_type": "stream",
          "name": "stdout",
          "text": [
            "Cantidad de biocida: 282.85 gln\n"
          ]
        }
      ]
    },
    {
      "cell_type": "code",
      "source": [
        "# ¿Qué concentración se tiene si se utilizan 150 gln de demulsificante=\n",
        "vdem = 150 / 42\n",
        "\n",
        "cdem = vdem * 1000000 / (qo + vdem) \n",
        "cdem = round(cdem, 2)\n",
        "\n",
        "print('Concentración de demulsificante:', cdem, 'ppm')\n"
      ],
      "metadata": {
        "colab": {
          "base_uri": "https://localhost:8080/"
        },
        "id": "QT-h5JfXz0ZS",
        "outputId": "5e2425df-b576-4c24-edc8-27d0a954af46"
      },
      "execution_count": null,
      "outputs": [
        {
          "output_type": "stream",
          "name": "stdout",
          "text": [
            "Concentración de demulsificante: 99.47 ppm\n"
          ]
        }
      ]
    },
    {
      "cell_type": "code",
      "source": [],
      "metadata": {
        "id": "cokBRSSlz0bo"
      },
      "execution_count": null,
      "outputs": []
    },
    {
      "cell_type": "code",
      "source": [],
      "metadata": {
        "id": "QFXLW38Sz0eN"
      },
      "execution_count": null,
      "outputs": []
    }
  ]
}